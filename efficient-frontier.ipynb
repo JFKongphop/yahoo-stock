{
  "cells": [
    {
      "cell_type": "markdown",
      "metadata": {
        "id": "oXYSnYVwRGQH"
      },
      "source": [
        "#Import_liberly"
      ]
    },
    {
      "cell_type": "code",
      "execution_count": 209,
      "metadata": {
        "id": "TZBhZUlD5hFm"
      },
      "outputs": [],
      "source": [
        "# load packages\n",
        "import pandas as pd\n",
        "import numpy as np\n",
        "import pandas_datareader as pdr\n",
        "from matplotlib import pyplot as plt\n",
        "import pandas_datareader as web\n",
        "from IPython.display import set_matplotlib_formats\n",
        "\n"
      ]
    },
    {
      "cell_type": "markdown",
      "metadata": {
        "id": "KCGiY-AYdJcG"
      },
      "source": [
        "#Import_Data"
      ]
    },
    {
      "cell_type": "code",
      "execution_count": 210,
      "metadata": {
        "id": "7RmMw0yXCwY_"
      },
      "outputs": [],
      "source": [
        "# ind = pd.read_csv(\"https://raw.githubusercontent.com/nutdnuy/Portfolio_optimization_with_Python/master/data/ind30_m_vw_rets.csv\", header=0, index_col=0)/100\n",
        "# ind.index = pd.to_datetime(ind.index, format=\"%Y%m\").to_period('M')"
      ]
    },
    {
      "cell_type": "code",
      "execution_count": 211,
      "metadata": {
        "colab": {
          "base_uri": "https://localhost:8080/",
          "height": 424
        },
        "id": "ApX8lWxdEwO_",
        "outputId": "d4e89156-dee6-4cd9-dc1b-8dc141ad33f7"
      },
      "outputs": [],
      "source": [
        "# ind"
      ]
    },
    {
      "cell_type": "code",
      "execution_count": 212,
      "metadata": {},
      "outputs": [
        {
          "data": {
            "text/html": [
              "<div>\n",
              "<style scoped>\n",
              "    .dataframe tbody tr th:only-of-type {\n",
              "        vertical-align: middle;\n",
              "    }\n",
              "\n",
              "    .dataframe tbody tr th {\n",
              "        vertical-align: top;\n",
              "    }\n",
              "\n",
              "    .dataframe thead th {\n",
              "        text-align: right;\n",
              "    }\n",
              "</style>\n",
              "<table border=\"1\" class=\"dataframe\">\n",
              "  <thead>\n",
              "    <tr style=\"text-align: right;\">\n",
              "      <th></th>\n",
              "      <th>PTTEP.BK</th>\n",
              "      <th>TTB.BK</th>\n",
              "      <th>KTB.BK</th>\n",
              "      <th>MEGA.BK</th>\n",
              "      <th>CPALL.BK</th>\n",
              "      <th>CENTEL.BK</th>\n",
              "      <th>MINT.BK</th>\n",
              "      <th>ADVANC.BK</th>\n",
              "      <th>HANA.BK</th>\n",
              "      <th>OSP.BK</th>\n",
              "    </tr>\n",
              "    <tr>\n",
              "      <th>Date</th>\n",
              "      <th></th>\n",
              "      <th></th>\n",
              "      <th></th>\n",
              "      <th></th>\n",
              "      <th></th>\n",
              "      <th></th>\n",
              "      <th></th>\n",
              "      <th></th>\n",
              "      <th></th>\n",
              "      <th></th>\n",
              "    </tr>\n",
              "  </thead>\n",
              "  <tbody>\n",
              "    <tr>\n",
              "      <th>2019-10</th>\n",
              "      <td>-0.0041</td>\n",
              "      <td>-0.0864</td>\n",
              "      <td>-0.0355</td>\n",
              "      <td>-0.0834</td>\n",
              "      <td>-0.0408</td>\n",
              "      <td>-0.1823</td>\n",
              "      <td>-0.0408</td>\n",
              "      <td>0.0401</td>\n",
              "      <td>-0.1024</td>\n",
              "      <td>0.1319</td>\n",
              "    </tr>\n",
              "    <tr>\n",
              "      <th>2019-11</th>\n",
              "      <td>-0.0042</td>\n",
              "      <td>0.1054</td>\n",
              "      <td>-0.0121</td>\n",
              "      <td>0.0591</td>\n",
              "      <td>-0.0260</td>\n",
              "      <td>0.0091</td>\n",
              "      <td>0.0671</td>\n",
              "      <td>-0.0771</td>\n",
              "      <td>0.2033</td>\n",
              "      <td>-0.0359</td>\n",
              "    </tr>\n",
              "    <tr>\n",
              "      <th>2019-12</th>\n",
              "      <td>0.0368</td>\n",
              "      <td>0.0488</td>\n",
              "      <td>0.0000</td>\n",
              "      <td>-0.1596</td>\n",
              "      <td>-0.0506</td>\n",
              "      <td>-0.1044</td>\n",
              "      <td>-0.0671</td>\n",
              "      <td>0.0047</td>\n",
              "      <td>0.0989</td>\n",
              "      <td>-0.0123</td>\n",
              "    </tr>\n",
              "    <tr>\n",
              "      <th>2020-01</th>\n",
              "      <td>0.0000</td>\n",
              "      <td>-0.1752</td>\n",
              "      <td>-0.0185</td>\n",
              "      <td>0.0470</td>\n",
              "      <td>-0.0210</td>\n",
              "      <td>-0.1416</td>\n",
              "      <td>-0.1576</td>\n",
              "      <td>-0.0432</td>\n",
              "      <td>0.0215</td>\n",
              "      <td>0.0886</td>\n",
              "    </tr>\n",
              "    <tr>\n",
              "      <th>2020-02</th>\n",
              "      <td>-0.1609</td>\n",
              "      <td>-0.2574</td>\n",
              "      <td>-0.1398</td>\n",
              "      <td>-0.0862</td>\n",
              "      <td>-0.0733</td>\n",
              "      <td>-0.1869</td>\n",
              "      <td>-0.1267</td>\n",
              "      <td>-0.0198</td>\n",
              "      <td>-0.0509</td>\n",
              "      <td>-0.0582</td>\n",
              "    </tr>\n",
              "    <tr>\n",
              "      <th>2020-03</th>\n",
              "      <td>-0.4513</td>\n",
              "      <td>-0.2140</td>\n",
              "      <td>-0.2054</td>\n",
              "      <td>-0.1188</td>\n",
              "      <td>-0.0750</td>\n",
              "      <td>-0.1560</td>\n",
              "      <td>-0.4928</td>\n",
              "      <td>0.0050</td>\n",
              "      <td>-0.3761</td>\n",
              "      <td>-0.1551</td>\n",
              "    </tr>\n",
              "    <tr>\n",
              "      <th>2020-04</th>\n",
              "      <td>0.2246</td>\n",
              "      <td>0.0870</td>\n",
              "      <td>-0.0357</td>\n",
              "      <td>0.2672</td>\n",
              "      <td>0.1518</td>\n",
              "      <td>0.3383</td>\n",
              "      <td>0.2276</td>\n",
              "      <td>-0.0150</td>\n",
              "      <td>0.2318</td>\n",
              "      <td>0.1491</td>\n",
              "    </tr>\n",
              "    <tr>\n",
              "      <th>2020-05</th>\n",
              "      <td>-0.0059</td>\n",
              "      <td>0.1806</td>\n",
              "      <td>-0.0561</td>\n",
              "      <td>0.1664</td>\n",
              "      <td>-0.0071</td>\n",
              "      <td>0.1422</td>\n",
              "      <td>-0.1260</td>\n",
              "      <td>-0.0282</td>\n",
              "      <td>0.0339</td>\n",
              "      <td>0.0238</td>\n",
              "    </tr>\n",
              "    <tr>\n",
              "      <th>2020-06</th>\n",
              "      <td>0.0883</td>\n",
              "      <td>-0.0910</td>\n",
              "      <td>-0.0097</td>\n",
              "      <td>0.0840</td>\n",
              "      <td>-0.0398</td>\n",
              "      <td>-0.0794</td>\n",
              "      <td>0.1026</td>\n",
              "      <td>-0.0397</td>\n",
              "      <td>-0.0780</td>\n",
              "      <td>-0.1119</td>\n",
              "    </tr>\n",
              "    <tr>\n",
              "      <th>2020-07</th>\n",
              "      <td>-0.0082</td>\n",
              "      <td>-0.1001</td>\n",
              "      <td>-0.0447</td>\n",
              "      <td>-0.0987</td>\n",
              "      <td>0.0074</td>\n",
              "      <td>-0.0264</td>\n",
              "      <td>-0.1092</td>\n",
              "      <td>0.0000</td>\n",
              "      <td>0.2672</td>\n",
              "      <td>0.1119</td>\n",
              "    </tr>\n",
              "  </tbody>\n",
              "</table>\n",
              "</div>"
            ],
            "text/plain": [
              "         PTTEP.BK  TTB.BK  KTB.BK  MEGA.BK  CPALL.BK  CENTEL.BK  MINT.BK  \\\n",
              "Date                                                                       \n",
              "2019-10   -0.0041 -0.0864 -0.0355  -0.0834   -0.0408    -0.1823  -0.0408   \n",
              "2019-11   -0.0042  0.1054 -0.0121   0.0591   -0.0260     0.0091   0.0671   \n",
              "2019-12    0.0368  0.0488  0.0000  -0.1596   -0.0506    -0.1044  -0.0671   \n",
              "2020-01    0.0000 -0.1752 -0.0185   0.0470   -0.0210    -0.1416  -0.1576   \n",
              "2020-02   -0.1609 -0.2574 -0.1398  -0.0862   -0.0733    -0.1869  -0.1267   \n",
              "2020-03   -0.4513 -0.2140 -0.2054  -0.1188   -0.0750    -0.1560  -0.4928   \n",
              "2020-04    0.2246  0.0870 -0.0357   0.2672    0.1518     0.3383   0.2276   \n",
              "2020-05   -0.0059  0.1806 -0.0561   0.1664   -0.0071     0.1422  -0.1260   \n",
              "2020-06    0.0883 -0.0910 -0.0097   0.0840   -0.0398    -0.0794   0.1026   \n",
              "2020-07   -0.0082 -0.1001 -0.0447  -0.0987    0.0074    -0.0264  -0.1092   \n",
              "\n",
              "         ADVANC.BK  HANA.BK  OSP.BK  \n",
              "Date                                 \n",
              "2019-10     0.0401  -0.1024  0.1319  \n",
              "2019-11    -0.0771   0.2033 -0.0359  \n",
              "2019-12     0.0047   0.0989 -0.0123  \n",
              "2020-01    -0.0432   0.0215  0.0886  \n",
              "2020-02    -0.0198  -0.0509 -0.0582  \n",
              "2020-03     0.0050  -0.3761 -0.1551  \n",
              "2020-04    -0.0150   0.2318  0.1491  \n",
              "2020-05    -0.0282   0.0339  0.0238  \n",
              "2020-06    -0.0397  -0.0780 -0.1119  \n",
              "2020-07     0.0000   0.2672  0.1119  "
            ]
          },
          "execution_count": 212,
          "metadata": {},
          "output_type": "execute_result"
        }
      ],
      "source": [
        "ind = pd.read_csv('data-t.csv', encoding='ISO-8859-1')\n",
        "\n",
        "def convert_to_float(value):\n",
        "  try:\n",
        "    return float(value.strip('%')) / 100\n",
        "  except ValueError:\n",
        "    return float('NaN')\n",
        "  \n",
        "columns_with_percentage = ['KTB.BK', 'PTTEP.BK', 'TTB.BK', 'MEGA.BK','CPALL.BK','CENTEL.BK', 'MINT.BK', 'ADVANC.BK', 'HANA.BK', 'OSP.BK']\n",
        "\n",
        "\n",
        "\n",
        "# for col in columns_with_percentage:\n",
        "#   ind[col] = pd.to_numeric(ind[col].str.replace('%', ''), errors='coerce')\n",
        "\n",
        "ind['Date'] = pd.to_datetime(ind['Date'])\n",
        "\n",
        "ind.index = ind['Date'].dt.strftime('%Y-%m')\n",
        "ind.drop('Date', axis=1, inplace=True)\n",
        "ind.drop('1AM-GEM', axis=1, inplace=True)\n",
        "ind.drop('Portfolio', axis=1, inplace=True)\n",
        "ind.drop('SET', axis=1, inplace=True)\n",
        "\n",
        "for col in columns_with_percentage:\n",
        "  ind[col] = ind[col].apply(convert_to_float)\n",
        "\n",
        "years = ind['2019':'2023']\n",
        "\n",
        "\n",
        "ind.head(10)"
      ]
    },
    {
      "cell_type": "code",
      "execution_count": 213,
      "metadata": {
        "id": "UMUiZCfsQetN"
      },
      "outputs": [],
      "source": [
        "def annualize_rets(r, periods_per_year):\n",
        "  \"\"\"\n",
        "  Annualizes a set of returns\n",
        "  We should infer the periods per year\n",
        "  but that is currently left as an exercise\n",
        "  to the reader :-)\n",
        "  \"\"\"\n",
        "  compounded_growth = (1+r).prod()\n",
        "  n_periods = r.shape[0]\n",
        "  return compounded_growth**(periods_per_year/n_periods)-1"
      ]
    },
    {
      "cell_type": "code",
      "execution_count": 214,
      "metadata": {
        "id": "djToYPd2c1bX"
      },
      "outputs": [
        {
          "data": {
            "text/html": [
              "<div>\n",
              "<style scoped>\n",
              "    .dataframe tbody tr th:only-of-type {\n",
              "        vertical-align: middle;\n",
              "    }\n",
              "\n",
              "    .dataframe tbody tr th {\n",
              "        vertical-align: top;\n",
              "    }\n",
              "\n",
              "    .dataframe thead th {\n",
              "        text-align: right;\n",
              "    }\n",
              "</style>\n",
              "<table border=\"1\" class=\"dataframe\">\n",
              "  <thead>\n",
              "    <tr style=\"text-align: right;\">\n",
              "      <th></th>\n",
              "      <th>PTTEP.BK</th>\n",
              "      <th>TTB.BK</th>\n",
              "      <th>KTB.BK</th>\n",
              "      <th>MEGA.BK</th>\n",
              "      <th>CPALL.BK</th>\n",
              "      <th>CENTEL.BK</th>\n",
              "      <th>MINT.BK</th>\n",
              "      <th>ADVANC.BK</th>\n",
              "      <th>HANA.BK</th>\n",
              "      <th>OSP.BK</th>\n",
              "    </tr>\n",
              "  </thead>\n",
              "  <tbody>\n",
              "    <tr>\n",
              "      <th>PTTEP.BK</th>\n",
              "      <td>0.011706</td>\n",
              "      <td>0.006788</td>\n",
              "      <td>0.005302</td>\n",
              "      <td>0.004093</td>\n",
              "      <td>0.003852</td>\n",
              "      <td>0.007747</td>\n",
              "      <td>0.012024</td>\n",
              "      <td>-0.000045</td>\n",
              "      <td>0.004363</td>\n",
              "      <td>0.004118</td>\n",
              "    </tr>\n",
              "    <tr>\n",
              "      <th>TTB.BK</th>\n",
              "      <td>0.006788</td>\n",
              "      <td>0.011147</td>\n",
              "      <td>0.005360</td>\n",
              "      <td>0.002919</td>\n",
              "      <td>0.003699</td>\n",
              "      <td>0.007955</td>\n",
              "      <td>0.008881</td>\n",
              "      <td>0.000856</td>\n",
              "      <td>0.003287</td>\n",
              "      <td>0.003002</td>\n",
              "    </tr>\n",
              "    <tr>\n",
              "      <th>KTB.BK</th>\n",
              "      <td>0.005302</td>\n",
              "      <td>0.005360</td>\n",
              "      <td>0.005157</td>\n",
              "      <td>0.000952</td>\n",
              "      <td>0.002369</td>\n",
              "      <td>0.004745</td>\n",
              "      <td>0.006979</td>\n",
              "      <td>0.000318</td>\n",
              "      <td>-0.000200</td>\n",
              "      <td>0.001711</td>\n",
              "    </tr>\n",
              "    <tr>\n",
              "      <th>MEGA.BK</th>\n",
              "      <td>0.004093</td>\n",
              "      <td>0.002919</td>\n",
              "      <td>0.000952</td>\n",
              "      <td>0.009011</td>\n",
              "      <td>0.000981</td>\n",
              "      <td>0.005121</td>\n",
              "      <td>0.004663</td>\n",
              "      <td>-0.000170</td>\n",
              "      <td>0.005382</td>\n",
              "      <td>0.001613</td>\n",
              "    </tr>\n",
              "    <tr>\n",
              "      <th>CPALL.BK</th>\n",
              "      <td>0.003852</td>\n",
              "      <td>0.003699</td>\n",
              "      <td>0.002369</td>\n",
              "      <td>0.000981</td>\n",
              "      <td>0.004611</td>\n",
              "      <td>0.004805</td>\n",
              "      <td>0.006018</td>\n",
              "      <td>0.000499</td>\n",
              "      <td>0.001219</td>\n",
              "      <td>0.002579</td>\n",
              "    </tr>\n",
              "    <tr>\n",
              "      <th>CENTEL.BK</th>\n",
              "      <td>0.007747</td>\n",
              "      <td>0.007955</td>\n",
              "      <td>0.004745</td>\n",
              "      <td>0.005121</td>\n",
              "      <td>0.004805</td>\n",
              "      <td>0.018042</td>\n",
              "      <td>0.012743</td>\n",
              "      <td>-0.000810</td>\n",
              "      <td>0.000175</td>\n",
              "      <td>0.002294</td>\n",
              "    </tr>\n",
              "    <tr>\n",
              "      <th>MINT.BK</th>\n",
              "      <td>0.012024</td>\n",
              "      <td>0.008881</td>\n",
              "      <td>0.006979</td>\n",
              "      <td>0.004663</td>\n",
              "      <td>0.006018</td>\n",
              "      <td>0.012743</td>\n",
              "      <td>0.021387</td>\n",
              "      <td>-0.000305</td>\n",
              "      <td>0.004403</td>\n",
              "      <td>0.004486</td>\n",
              "    </tr>\n",
              "    <tr>\n",
              "      <th>ADVANC.BK</th>\n",
              "      <td>-0.000045</td>\n",
              "      <td>0.000856</td>\n",
              "      <td>0.000318</td>\n",
              "      <td>-0.000170</td>\n",
              "      <td>0.000499</td>\n",
              "      <td>-0.000810</td>\n",
              "      <td>-0.000305</td>\n",
              "      <td>0.002014</td>\n",
              "      <td>0.000146</td>\n",
              "      <td>0.000712</td>\n",
              "    </tr>\n",
              "    <tr>\n",
              "      <th>HANA.BK</th>\n",
              "      <td>0.004363</td>\n",
              "      <td>0.003287</td>\n",
              "      <td>-0.000200</td>\n",
              "      <td>0.005382</td>\n",
              "      <td>0.001219</td>\n",
              "      <td>0.000175</td>\n",
              "      <td>0.004403</td>\n",
              "      <td>0.000146</td>\n",
              "      <td>0.024553</td>\n",
              "      <td>0.002920</td>\n",
              "    </tr>\n",
              "    <tr>\n",
              "      <th>OSP.BK</th>\n",
              "      <td>0.004118</td>\n",
              "      <td>0.003002</td>\n",
              "      <td>0.001711</td>\n",
              "      <td>0.001613</td>\n",
              "      <td>0.002579</td>\n",
              "      <td>0.002294</td>\n",
              "      <td>0.004486</td>\n",
              "      <td>0.000712</td>\n",
              "      <td>0.002920</td>\n",
              "      <td>0.005732</td>\n",
              "    </tr>\n",
              "  </tbody>\n",
              "</table>\n",
              "</div>"
            ],
            "text/plain": [
              "           PTTEP.BK    TTB.BK    KTB.BK   MEGA.BK  CPALL.BK  CENTEL.BK  \\\n",
              "PTTEP.BK   0.011706  0.006788  0.005302  0.004093  0.003852   0.007747   \n",
              "TTB.BK     0.006788  0.011147  0.005360  0.002919  0.003699   0.007955   \n",
              "KTB.BK     0.005302  0.005360  0.005157  0.000952  0.002369   0.004745   \n",
              "MEGA.BK    0.004093  0.002919  0.000952  0.009011  0.000981   0.005121   \n",
              "CPALL.BK   0.003852  0.003699  0.002369  0.000981  0.004611   0.004805   \n",
              "CENTEL.BK  0.007747  0.007955  0.004745  0.005121  0.004805   0.018042   \n",
              "MINT.BK    0.012024  0.008881  0.006979  0.004663  0.006018   0.012743   \n",
              "ADVANC.BK -0.000045  0.000856  0.000318 -0.000170  0.000499  -0.000810   \n",
              "HANA.BK    0.004363  0.003287 -0.000200  0.005382  0.001219   0.000175   \n",
              "OSP.BK     0.004118  0.003002  0.001711  0.001613  0.002579   0.002294   \n",
              "\n",
              "            MINT.BK  ADVANC.BK   HANA.BK    OSP.BK  \n",
              "PTTEP.BK   0.012024  -0.000045  0.004363  0.004118  \n",
              "TTB.BK     0.008881   0.000856  0.003287  0.003002  \n",
              "KTB.BK     0.006979   0.000318 -0.000200  0.001711  \n",
              "MEGA.BK    0.004663  -0.000170  0.005382  0.001613  \n",
              "CPALL.BK   0.006018   0.000499  0.001219  0.002579  \n",
              "CENTEL.BK  0.012743  -0.000810  0.000175  0.002294  \n",
              "MINT.BK    0.021387  -0.000305  0.004403  0.004486  \n",
              "ADVANC.BK -0.000305   0.002014  0.000146  0.000712  \n",
              "HANA.BK    0.004403   0.000146  0.024553  0.002920  \n",
              "OSP.BK     0.004486   0.000712  0.002920  0.005732  "
            ]
          },
          "execution_count": 214,
          "metadata": {},
          "output_type": "execute_result"
        }
      ],
      "source": [
        "cov = years.cov()\n",
        "cov"
      ]
    },
    {
      "cell_type": "code",
      "execution_count": 215,
      "metadata": {
        "colab": {
          "base_uri": "https://localhost:8080/"
        },
        "id": "e4852Zw0E-aB",
        "outputId": "f21e9212-19f7-401e-e21a-2df64ff224db"
      },
      "outputs": [
        {
          "data": {
            "text/plain": [
              "PTTEP.BK     0.034934\n",
              "TTB.BK      -0.094933\n",
              "KTB.BK      -0.021125\n",
              "MEGA.BK      0.075412\n",
              "CPALL.BK    -0.077341\n",
              "CENTEL.BK    0.027448\n",
              "MINT.BK     -0.170891\n",
              "ADVANC.BK   -0.047849\n",
              "HANA.BK      0.038087\n",
              "OSP.BK      -0.112472\n",
              "dtype: float64"
            ]
          },
          "execution_count": 215,
          "metadata": {},
          "output_type": "execute_result"
        }
      ],
      "source": [
        "er = annualize_rets(years, 12)\n",
        "er"
      ]
    },
    {
      "cell_type": "code",
      "execution_count": 216,
      "metadata": {
        "colab": {
          "base_uri": "https://localhost:8080/",
          "height": 175
        },
        "id": "0EWhog2bGOQd",
        "outputId": "3b64787a-6100-453b-8037-fa1f214640a2"
      },
      "outputs": [
        {
          "data": {
            "text/html": [
              "<div>\n",
              "<style scoped>\n",
              "    .dataframe tbody tr th:only-of-type {\n",
              "        vertical-align: middle;\n",
              "    }\n",
              "\n",
              "    .dataframe tbody tr th {\n",
              "        vertical-align: top;\n",
              "    }\n",
              "\n",
              "    .dataframe thead th {\n",
              "        text-align: right;\n",
              "    }\n",
              "</style>\n",
              "<table border=\"1\" class=\"dataframe\">\n",
              "  <thead>\n",
              "    <tr style=\"text-align: right;\">\n",
              "      <th></th>\n",
              "      <th>PTTEP.BK</th>\n",
              "      <th>TTB.BK</th>\n",
              "      <th>KTB.BK</th>\n",
              "      <th>MEGA.BK</th>\n",
              "    </tr>\n",
              "  </thead>\n",
              "  <tbody>\n",
              "    <tr>\n",
              "      <th>PTTEP.BK</th>\n",
              "      <td>0.011706</td>\n",
              "      <td>0.006788</td>\n",
              "      <td>0.005302</td>\n",
              "      <td>0.004093</td>\n",
              "    </tr>\n",
              "    <tr>\n",
              "      <th>TTB.BK</th>\n",
              "      <td>0.006788</td>\n",
              "      <td>0.011147</td>\n",
              "      <td>0.005360</td>\n",
              "      <td>0.002919</td>\n",
              "    </tr>\n",
              "    <tr>\n",
              "      <th>KTB.BK</th>\n",
              "      <td>0.005302</td>\n",
              "      <td>0.005360</td>\n",
              "      <td>0.005157</td>\n",
              "      <td>0.000952</td>\n",
              "    </tr>\n",
              "    <tr>\n",
              "      <th>MEGA.BK</th>\n",
              "      <td>0.004093</td>\n",
              "      <td>0.002919</td>\n",
              "      <td>0.000952</td>\n",
              "      <td>0.009011</td>\n",
              "    </tr>\n",
              "  </tbody>\n",
              "</table>\n",
              "</div>"
            ],
            "text/plain": [
              "          PTTEP.BK    TTB.BK    KTB.BK   MEGA.BK\n",
              "PTTEP.BK  0.011706  0.006788  0.005302  0.004093\n",
              "TTB.BK    0.006788  0.011147  0.005360  0.002919\n",
              "KTB.BK    0.005302  0.005360  0.005157  0.000952\n",
              "MEGA.BK   0.004093  0.002919  0.000952  0.009011"
            ]
          },
          "execution_count": 216,
          "metadata": {},
          "output_type": "execute_result"
        }
      ],
      "source": [
        "l = ['PTTEP.BK', 'TTB.BK',\t'KTB.BK',\t'MEGA.BK']\n",
        "cov.loc[l,l]"
      ]
    },
    {
      "cell_type": "markdown",
      "metadata": {
        "id": "KJ7hJQIeQ_xd"
      },
      "source": [
        "#Compute_Efficient Frontier"
      ]
    },
    {
      "cell_type": "markdown",
      "metadata": {
        "id": "fD_dZ6TOQ7KB"
      },
      "source": [
        "##2-Asset Class"
      ]
    },
    {
      "cell_type": "code",
      "execution_count": 217,
      "metadata": {
        "id": "SNDmdAdRRnJD"
      },
      "outputs": [],
      "source": [
        "n_points = 20\n",
        "weights = [np.array([w, 1-w]) for w in np.linspace(0, 1, n_points)]"
      ]
    },
    {
      "cell_type": "code",
      "execution_count": 218,
      "metadata": {
        "colab": {
          "base_uri": "https://localhost:8080/"
        },
        "id": "Yo2qXq7GRpTC",
        "outputId": "6d5b8f19-7786-49d6-b431-0e986bc12744"
      },
      "outputs": [
        {
          "data": {
            "text/plain": [
              "array([0., 1.])"
            ]
          },
          "execution_count": 218,
          "metadata": {},
          "output_type": "execute_result"
        }
      ],
      "source": [
        "weights[0]"
      ]
    },
    {
      "cell_type": "code",
      "execution_count": 219,
      "metadata": {
        "colab": {
          "base_uri": "https://localhost:8080/"
        },
        "id": "gQU4RZv9Rx6j",
        "outputId": "a06194b0-539b-430b-9702-0b920c071697"
      },
      "outputs": [
        {
          "data": {
            "text/plain": [
              "array([0.21052632, 0.78947368])"
            ]
          },
          "execution_count": 219,
          "metadata": {},
          "output_type": "execute_result"
        }
      ],
      "source": [
        "weights[4]"
      ]
    },
    {
      "cell_type": "code",
      "execution_count": 220,
      "metadata": {
        "colab": {
          "base_uri": "https://localhost:8080/"
        },
        "id": "mDc-jGFXRz9H",
        "outputId": "bc362597-64ac-4de0-fe6e-0ee9a055c4bc"
      },
      "outputs": [
        {
          "data": {
            "text/plain": [
              "array([1., 0.])"
            ]
          },
          "execution_count": 220,
          "metadata": {},
          "output_type": "execute_result"
        }
      ],
      "source": [
        "weights[19]"
      ]
    },
    {
      "cell_type": "code",
      "execution_count": 221,
      "metadata": {
        "id": "UnJ4Gs_USBSF"
      },
      "outputs": [],
      "source": [
        "def portfolio_return(weights, returns):\n",
        "  \"\"\"\n",
        "  Computes the return on a portfolio from constituent returns and weights\n",
        "  weights are a numpy array or Nx1 matrix and returns are a numpy array or Nx1 matrix\n",
        "  \"\"\"\n",
        "  return weights.T @ returns"
      ]
    },
    {
      "cell_type": "code",
      "execution_count": 222,
      "metadata": {
        "id": "ZV_EbQpISifU"
      },
      "outputs": [],
      "source": [
        "def portfolio_vol(weights, covmat):\n",
        "  \"\"\"\n",
        "  Computes the vol of a portfolio from a covariance matrix and constituent weights\n",
        "  weights are a numpy array or N x 1 maxtrix and covmat is an N x N matrix\n",
        "  \"\"\"\n",
        "  return (weights.T @ covmat @ weights)**0.5"
      ]
    },
    {
      "cell_type": "code",
      "execution_count": 223,
      "metadata": {
        "id": "ZAU_kTYAR4_h"
      },
      "outputs": [],
      "source": [
        "l = ['PTTEP.BK', 'TTB.BK']\n",
        "rets = [portfolio_return(w, er[l]) for w in weights]\n",
        "vols = [portfolio_vol(w, cov.loc[l,l]) for w in weights]\n",
        "ef = pd.DataFrame({\"R\": rets, \"V\": vols})\n"
      ]
    },
    {
      "cell_type": "code",
      "execution_count": 224,
      "metadata": {
        "id": "ST17z4gdW9s5"
      },
      "outputs": [],
      "source": [
        "from scipy.optimize import minimize\n",
        "\n",
        "def minimize_vol(target_return, er, cov):\n",
        "  \"\"\"\n",
        "  Returns the optimal weights that achieve the target return\n",
        "  given a set of expected returns and a covariance matrix\n",
        "  \"\"\"\n",
        "  n = er.shape[0]\n",
        "  init_guess = np.repeat(1/n, n)\n",
        "  bounds = ((0.0, 1.0),) * n # an N-tuple of 2-tuples!\n",
        "  # construct the constraints\n",
        "  weights_sum_to_1 = {\n",
        "    'type': 'eq',\n",
        "    'fun': lambda weights: np.sum(weights) - 1\n",
        "  }\n",
        "  return_is_target = {\n",
        "    'type': 'eq',\n",
        "    'args': (er,),\n",
        "    'fun': lambda weights, er: target_return -\n",
        "    portfolio_return(weights,er)\n",
        "  }\n",
        "  weights = minimize(\n",
        "    portfolio_vol, \n",
        "    init_guess,\n",
        "    args=(cov,), method='SLSQP',\n",
        "    options={'disp': False},\n",
        "    constraints=(weights_sum_to_1,return_is_target),\n",
        "    bounds=bounds\n",
        "  )\n",
        "  return weights.x"
      ]
    },
    {
      "cell_type": "code",
      "execution_count": 225,
      "metadata": {
        "colab": {
          "base_uri": "https://localhost:8080/"
        },
        "id": "qAqn1cHkXIH8",
        "outputId": "3372c893-d20b-4438-db43-04453f2efbf4"
      },
      "outputs": [
        {
          "data": {
            "text/plain": [
              "0.10819533841649895"
            ]
          },
          "execution_count": 225,
          "metadata": {},
          "output_type": "execute_result"
        }
      ],
      "source": [
        "weights_20 = minimize_vol(0.20, er[l], cov.loc[l,l])\n",
        "vol_20 = portfolio_vol(weights_20, cov.loc[l,l])\n",
        "vol_20"
      ]
    },
    {
      "cell_type": "markdown",
      "metadata": {
        "id": "SQ3J2EnhUfXQ"
      },
      "source": [
        "###Plot"
      ]
    },
    {
      "cell_type": "code",
      "execution_count": 226,
      "metadata": {
        "colab": {
          "base_uri": "https://localhost:8080/",
          "height": 449
        },
        "id": "sLkVKCxVSbKg",
        "outputId": "f58a8ff7-3ba3-4a2d-edf2-a6d996364512"
      },
      "outputs": [
        {
          "data": {
            "image/png": "[encoded data removed]",
            "text/plain": [
              "<Figure size 640x480 with 1 Axes>"
            ]
          },
          "metadata": {},
          "output_type": "display_data"
        }
      ],
      "source": [
        "ef.plot.scatter(x=\"V\", y=\"R\");"
      ]
    },
    {
      "cell_type": "code",
      "execution_count": 227,
      "metadata": {
        "id": "fD2ossChU1VR"
      },
      "outputs": [],
      "source": [
        "def plot_ef2(n_points, er, cov):\n",
        "  \"\"\"\n",
        "  Plots the 2-asset efficient frontier\n",
        "  \"\"\"\n",
        "  if er.shape[0] != 2 or er.shape[0] != 2:\n",
        "    raise ValueError(\"plot_ef2 can only plot 2-asset frontiers\")\n",
        "  weights = [np.array([w, 1-w]) for w in np.linspace(0, 1, n_points)]\n",
        "  rets = [portfolio_return(w, er) for w in weights]\n",
        "  vols = [portfolio_vol(w, cov) for w in weights]\n",
        "  ef = pd.DataFrame({\n",
        "    \"Returns\": rets,\n",
        "    \"Volatility\": vols\n",
        "  })\n",
        "  return ef.plot.line(x=\"Volatility\", y=\"Returns\", style=\".-\")"
      ]
    },
    {
      "cell_type": "code",
      "execution_count": 229,
      "metadata": {
        "colab": {
          "base_uri": "https://localhost:8080/",
          "height": 466
        },
        "id": "j4XLrWtcU2IY",
        "outputId": "64ee378b-9158-4e39-b245-c5a170e62340"
      },
      "outputs": [
        {
          "data": {
            "text/plain": [
              "<AxesSubplot:xlabel='Volatility'>"
            ]
          },
          "execution_count": 229,
          "metadata": {},
          "output_type": "execute_result"
        },
        {
          "data": {
            "image/png": "[encoded data removed]",
            "text/plain": [
              "<Figure size 640x480 with 1 Axes>"
            ]
          },
          "metadata": {},
          "output_type": "display_data"
        }
      ],
      "source": [
        "l = ['PTTEP.BK', 'TTB.BK']\n",
        "plot_ef2(25, er[l].values, cov.loc[l,l])"
      ]
    },
    {
      "cell_type": "markdown",
      "metadata": {
        "id": "QQV6tYcDbL3v"
      },
      "source": [
        "##Muti Class"
      ]
    },
    {
      "cell_type": "code",
      "execution_count": null,
      "metadata": {
        "id": "l383U4odbfr6"
      },
      "outputs": [],
      "source": [
        "from scipy.optimize import minimize\n",
        "\n",
        "def minimize_vol(target_return, er, cov):\n",
        "  \"\"\"\n",
        "  Returns the optimal weights that achieve the target return\n",
        "  given a set of expected returns and a covariance matrix\n",
        "  \"\"\"\n",
        "  n = er.shape[0]\n",
        "  init_guess = np.repeat(1/n, n)\n",
        "  bounds = ((0.0, 1.0),) * n # an N-tuple of 2-tuples!\n",
        "  # construct the constraints\n",
        "  weights_sum_to_1 = {\n",
        "    'type': 'eq',\n",
        "                    'fun': lambda weights: np.sum(weights) - 1\n",
        "  }\n",
        "  return_is_target = {\n",
        "    'type': 'eq',\n",
        "    'args': (er,),\n",
        "    'fun': lambda weights, er: target_return - portfolio_return(weights,er)\n",
        "  }\n",
        "  weights = minimize(\n",
        "    portfolio_vol, \n",
        "    init_guess,\n",
        "    args=(cov,), \n",
        "    method='SLSQP',\n",
        "    options={'disp': False},\n",
        "    constraints=(weights_sum_to_1,return_is_target),\n",
        "    bounds=bounds\n",
        "  )\n",
        "  return weights.x"
      ]
    },
    {
      "cell_type": "code",
      "execution_count": null,
      "metadata": {
        "id": "UOvRnvQwbzt4"
      },
      "outputs": [],
      "source": [
        "def optimal_weights(n_points, er, cov):\n",
        "  \"\"\"\n",
        "  \"\"\"\n",
        "  target_rs = np.linspace(er.min(), er.max(), n_points)\n",
        "  weights = [minimize_vol(target_return, er, cov) for target_return in target_rs]\n",
        "  return weights\n",
        "\n",
        "def plot_ef(n_points, er, cov):\n",
        "  \"\"\"\n",
        "  Plots the multi-asset efficient frontier\n",
        "  \"\"\"\n",
        "  weights = optimal_weights(n_points, er, cov) # not yet implemented!\n",
        "  rets = [portfolio_return(w, er) for w in weights]\n",
        "  vols = [portfolio_vol(w, cov) for w in weights]\n",
        "  ef = pd.DataFrame({\n",
        "    \"Returns\": rets,\n",
        "    \"Volatility\": vols\n",
        "  })\n",
        "  return ef.plot.line(x=\"Volatility\", y=\"Returns\", style='.-')"
      ]
    },
    {
      "cell_type": "code",
      "execution_count": 233,
      "metadata": {
        "colab": {
          "base_uri": "https://localhost:8080/",
          "height": 466
        },
        "id": "6MP8_B2VccCE",
        "outputId": "ee2e348b-c25b-4ec5-d9b8-cf761950ba77"
      },
      "outputs": [
        {
          "data": {
            "text/plain": [
              "<AxesSubplot:xlabel='Volatility'>"
            ]
          },
          "execution_count": 233,
          "metadata": {},
          "output_type": "execute_result"
        },
        {
          "data": {
            "image/png": "[encoded data removed]",
            "text/plain": [
              "<Figure size 640x480 with 1 Axes>"
            ]
          },
          "metadata": {},
          "output_type": "display_data"
        }
      ],
      "source": [
        "l = ['KTB.BK', 'PTTEP.BK', 'TTB.BK', 'MEGA.BK','CPALL.BK','CENTEL.BK', 'MINT.BK', 'ADVANC.BK', 'HANA.BK', 'OSP.BK']\n",
        "plot_ef(1000, er[l], cov.loc[l,l])"
      ]
    },
    {
      "cell_type": "code",
      "execution_count": 232,
      "metadata": {
        "colab": {
          "base_uri": "https://localhost:8080/"
        },
        "id": "2tva0x86PpG-",
        "outputId": "95b544a9-b4b8-4206-83e2-d22c1af34a79"
      },
      "outputs": [
        {
          "data": {
            "text/plain": [
              "0.09492407257780672"
            ]
          },
          "execution_count": 232,
          "metadata": {},
          "output_type": "execute_result"
        }
      ],
      "source": [
        "weights_15 = minimize_vol(0.15, er[l], cov.loc[l,l])\n",
        "vol_15 = portfolio_vol(weights_15, cov.loc[l,l])\n",
        "vol_15"
      ]
    },
    {
      "cell_type": "code",
      "execution_count": null,
      "metadata": {
        "id": "lla_0eTxm7dX"
      },
      "outputs": [],
      "source": []
    }
  ],
  "metadata": {
    "colab": {
      "provenance": []
    },
    "kernelspec": {
      "display_name": "Python 3",
      "name": "python3"
    },
    "language_info": {
      "codemirror_mode": {
        "name": "ipython",
        "version": 3
      },
      "file_extension": ".py",
      "mimetype": "text/x-python",
      "name": "python",
      "nbconvert_exporter": "python",
      "pygments_lexer": "ipython3",
      "version": "3.9.18"
    }
  },
  "nbformat": 4,
  "nbformat_minor": 0
}
